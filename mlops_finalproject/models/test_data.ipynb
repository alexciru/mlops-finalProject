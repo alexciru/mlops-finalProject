{
 "cells": [
  {
   "cell_type": "code",
   "execution_count": 21,
   "metadata": {},
   "outputs": [],
   "source": [
    "from torch.utils.data import DataLoader, TensorDataset\n",
    "import torch\n",
    "import click\n",
    "import pandas as pd\n",
    "import logging\n",
    "from pathlib import Path\n",
    "from dotenv import find_dotenv, load_dotenv\n",
    "import numpy as np\n",
    "from torchvision import transforms\n",
    "from PIL import Image\n",
    "\n",
    "def normalize_data(data):\n",
    "    \"\"\" Funtion to normalized data\n",
    "    \"\"\"\n",
    "    # Normalize\n",
    "    for idx, image in enumerate(data):\n",
    "        mean = image.mean().item()\n",
    "        std = image.std().item()\n",
    "\n",
    "        transform_norm = transforms.Compose([transforms.Normalize(mean, std)])\n",
    "        img_normalized = transform_norm(image)\n",
    "        data[idx] = img_normalized\n",
    "\n",
    "    return data"
   ]
  },
  {
   "cell_type": "code",
   "execution_count": 3,
   "metadata": {},
   "outputs": [],
   "source": [
    "def get_data(path):\n",
    "    \"\"\" Funtion to load the folders with the imgs to predict\n",
    "    \"\"\"\n",
    "    test_images = []\n",
    "    test_labels = []\n",
    "    data = np.load(f\"{path}\")\n",
    "    [test_images.append(img) for img in data[\"images\"]]\n",
    "    [test_labels.append(label) for label in data[\"labels\"]]\n",
    "\n",
    "    test_images = np.array(test_images)\n",
    "    test_images = test_images.reshape(test_images.shape[0], 1, 28, 28)\n",
    "    test_labels = np.array(test_labels)\n",
    "    test = [\n",
    "        torch.tensor(test_images).type(torch.float32),\n",
    "        torch.tensor(test_labels).long(),\n",
    "    ]\n",
    "\n",
    "    return test"
   ]
  },
  {
   "cell_type": "code",
   "execution_count": 18,
   "metadata": {},
   "outputs": [],
   "source": [
    "data_dir = r\"C:/Users/alexc/Documents/DTU - First Semester/mlops/mlops-finalReport/data/raw/German\"\n",
    "test = pd.read_csv(data_dir + '/Test.csv')\n",
    "paths = test[\"Path\"].values\n",
    "labels = test[\"ClassId\"].values\n"
   ]
  },
  {
   "cell_type": "code",
   "execution_count": 29,
   "metadata": {},
   "outputs": [
    {
     "data": {
      "text/plain": [
       "12630"
      ]
     },
     "execution_count": 29,
     "metadata": {},
     "output_type": "execute_result"
    }
   ],
   "source": [
    "test_imgs = []\n",
    "transform = transforms.Compose([transforms.Resize([30, 30]), transforms.ToTensor()])\n",
    "\n",
    "for path in paths:\n",
    "    fullpath = data_dir + \"/\" +path\n",
    "    img = Image.open(fullpath)\n",
    "    # normalized\n",
    "    tensor = transform(img) # Resize and convert to tensor\n",
    "    test_imgs.append(tensor)\n",
    "\n",
    "\n"
   ]
  }
 ],
 "metadata": {
  "kernelspec": {
   "display_name": "pytorch",
   "language": "python",
   "name": "python3"
  },
  "language_info": {
   "codemirror_mode": {
    "name": "ipython",
    "version": 3
   },
   "file_extension": ".py",
   "mimetype": "text/x-python",
   "name": "python",
   "nbconvert_exporter": "python",
   "pygments_lexer": "ipython3",
   "version": "3.9.15"
  },
  "orig_nbformat": 4,
  "vscode": {
   "interpreter": {
    "hash": "7aab189e0933ba05a0fde466696fb1776a37dfccc4e5f26422a36387f9df0a52"
   }
  }
 },
 "nbformat": 4,
 "nbformat_minor": 2
}
