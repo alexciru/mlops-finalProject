{
 "cells": [
  {
   "cell_type": "code",
   "execution_count": 63,
   "metadata": {},
   "outputs": [],
   "source": [
    "import pytest\n",
    "from torchvision import transforms\n",
    "import torch\n",
    "from torch.utils.data import DataLoader, TensorDataset\n",
    "import mlops_finalproject.models.predict_model\n",
    "import os\n",
    "from PIL import Image\n",
    "import pandas as pd\n",
    "\n",
    "_PATH_DATA = r\"C:/Users/alexc/Documents/DTU - First Semester/mlops/mlops-finalReport/data\""
   ]
  },
  {
   "cell_type": "code",
   "execution_count": 50,
   "metadata": {},
   "outputs": [],
   "source": [
    "@pytest.mark.skipif(not os.path.exists(\"../../data/processed/images.pt\"), reason=\"Data files not found\")\n",
    "@pytest.mark.skipif(not os.path.exists(\"data/processed/labels.pt\"), reason=\"Data files not found\")\n",
    "def test_load_train_data():\n",
    "    \"\"\"Check whether we got all the data in train and in test\"\"\"\n",
    "    # Test\n",
    "    train_images = torch.load(\"../../data/processed/images.pt\")\n",
    "    train_labels = torch.load(\"../../data/processed/labels.pt\")\n",
    "    assert len(train_images) == 39209, \"Train imgs size have an incorrect number of entries\"\n",
    "    assert len(train_labels) == 39209,  \"Train labels size have an incorrect number of entries\"\n",
    "\n",
    "\n",
    "test_load_train_data()"
   ]
  },
  {
   "cell_type": "code",
   "execution_count": 49,
   "metadata": {},
   "outputs": [],
   "source": [
    "\n",
    "@pytest.mark.skipif(not os.path.exists(\"data/processed/images.pt\"), reason=\"Data files not found\")\n",
    "@pytest.mark.skipif(not os.path.exists(\"data/processed/labels.pt\"), reason=\"Data files not found\")\n",
    "def test_load_data_shape():\n",
    "    \"\"\"Check whether we have the correct shape format\"\"\"\n",
    "    images = torch.load(\"../../data/processed/images.pt\")\n",
    "    labels = torch.load(\"../../data/processed/labels.pt\")\n",
    "  \n",
    "    train_dataset = TensorDataset(images,labels)  # create your datset\n",
    "    trainloader = DataLoader(\n",
    "        train_dataset, batch_size=64, shuffle=True\n",
    "    )  \n",
    "\n",
    "    for batch, __ in trainloader:\n",
    "        for img in batch:\n",
    "            assert img.shape ==  torch.Size([2700]), \"Img have a incorrect size\"\n",
    "\n",
    "test_load_data_shape()"
   ]
  },
  {
   "cell_type": "code",
   "execution_count": 47,
   "metadata": {},
   "outputs": [],
   "source": [
    "\n",
    "\n",
    "@pytest.mark.skipif(not os.path.exists(\"data/processed/images.pt\"), reason=\"Data files not found\")\n",
    "@pytest.mark.skipif(not os.path.exists(\"data/processed/labels.pt\"), reason=\"Data files not found\")\n",
    "def test_load_data_labels():\n",
    "    \"\"\"Check whether we loaded all the labels\"\"\"\n",
    "\n",
    "    images = torch.load(\"../../data/processed/images.pt\")\n",
    "    labels = torch.load(\"../../data/processed/labels.pt\")\n",
    "\n",
    "    #labels = torch.Tensor(labels)\n",
    "    train_dataset = TensorDataset(images, labels)  # create your datset\n",
    "    trainloader = DataLoader(\n",
    "        train_dataset, batch_size=64, shuffle=True\n",
    "    ) \n",
    "\n",
    "    unique = torch.unique(labels)\n",
    "    for i in range(0, 43): assert i in unique , \"data not contains all the labels\"\n",
    "\n",
    "test_load_data_labels()"
   ]
  },
  {
   "cell_type": "code",
   "execution_count": 69,
   "metadata": {},
   "outputs": [
    {
     "name": "stdout",
     "output_type": "stream",
     "text": [
      "12630\n"
     ]
    }
   ],
   "source": [
    "@pytest.mark.skipif(not os.path.exists(_PATH_DATA + \"../../data/raw/German\"), reason=\"Data files not found\")\n",
    "def test_load_test_data():\n",
    "    test_images, test_labels = get_data( \"../../data/raw/German\")\n",
    "    assert len(test_images) == len(test_labels) == 12630 , \"Test size have an incorrect number of entries\"\n",
    "\n",
    "test_load_test_data()"
   ]
  },
  {
   "cell_type": "code",
   "execution_count": 67,
   "metadata": {},
   "outputs": [],
   "source": [
    "def get_data(path: str) -> list:\n",
    "    \"\"\" Funtion to load the folders with the imgs to predict\n",
    "    \"\"\"\n",
    "    test = pd.read_csv(path + '/Test.csv')\n",
    "    paths = test[\"Path\"].values\n",
    "    test_labels = test[\"ClassId\"].values\n",
    "\n",
    "    test_imgs = []\n",
    "    transform = transforms.Compose([transforms.Resize([30, 30]), transforms.ToTensor()])\n",
    "\n",
    "    for img_path in paths:\n",
    "        fullpath = path + \"/\" + img_path\n",
    "        img = Image.open(fullpath)\n",
    "        # normalized\n",
    "        tensor = transform(img) # Resize and convert to tensor\n",
    "        test_imgs.append(tensor)\n",
    "\n",
    "    output = [\n",
    "        torch.stack(test_imgs),\n",
    "        torch.tensor(test_labels),\n",
    "    ]\n",
    "\n",
    "    return output"
   ]
  }
 ],
 "metadata": {
  "kernelspec": {
   "display_name": "pytorch",
   "language": "python",
   "name": "python3"
  },
  "language_info": {
   "codemirror_mode": {
    "name": "ipython",
    "version": 3
   },
   "file_extension": ".py",
   "mimetype": "text/x-python",
   "name": "python",
   "nbconvert_exporter": "python",
   "pygments_lexer": "ipython3",
   "version": "3.9.15"
  },
  "orig_nbformat": 4,
  "vscode": {
   "interpreter": {
    "hash": "7aab189e0933ba05a0fde466696fb1776a37dfccc4e5f26422a36387f9df0a52"
   }
  }
 },
 "nbformat": 4,
 "nbformat_minor": 2
}
