{
 "cells": [
  {
   "cell_type": "code",
   "execution_count": 25,
   "metadata": {},
   "outputs": [],
   "source": [
    "import torch\n",
    "import pandas as pd\n",
    "from torchvision import transforms, datasets\n",
    "from PIL import Image, ImageStat\n",
    "\n",
    "from evidently.report import Report\n",
    "from evidently.metric_preset import DataDriftPreset, DataQualityPreset, TargetDriftPreset\n",
    "from evidently.test_suite import TestSuite\n",
    "from evidently.tests import TestNumberOfMissingValues"
   ]
  },
  {
   "cell_type": "code",
   "execution_count": 2,
   "metadata": {},
   "outputs": [],
   "source": [
    "def brightness( im_file ):\n",
    "   im = Image.open(im_file).convert('L')\n",
    "   stat = ImageStat.Stat(im)\n",
    "   return stat.mean[0]"
   ]
  },
  {
   "cell_type": "code",
   "execution_count": 13,
   "metadata": {},
   "outputs": [],
   "source": [
    "\n",
    "def get_data(path: str) -> list:\n",
    "    \"\"\" Funtion to load the folders with the imgs to predict\n",
    "    \"\"\"\n",
    "    test = pd.read_csv(path)\n",
    "    paths = test[\"Path\"].values\n",
    "    test_labels = test[\"ClassId\"].values\n",
    "\n",
    "    transform = transforms.Compose(\n",
    "        [\n",
    "        transforms.Resize([32, 32]),\n",
    "        transforms.ToTensor(),\n",
    "        ]\n",
    "    )\n",
    "\n",
    "    test_imgs_means = []\n",
    "    test_imgs_std = []\n",
    "\n",
    "    for img_path in paths:\n",
    "        fullpath = \"data/raw/German/\" + img_path\n",
    "        img = Image.open(fullpath)\n",
    "        mean = ImageStat.Stat(img).mean\n",
    "        std = ImageStat.Stat(img).stddev\n",
    "        test_imgs_means.append(mean)\n",
    "        test_imgs_std.append(std)\n",
    "        img.close()\n",
    "\n",
    "    return test_imgs_means, test_imgs_std, test_labels"
   ]
  },
  {
   "cell_type": "code",
   "execution_count": 23,
   "metadata": {},
   "outputs": [],
   "source": [
    "test_imgs_means_train, test_imgs_std_train, labels_train = get_data(\"data/raw/German/Train.csv\")\n",
    "\n",
    "image_data_train = pd.DataFrame(columns=[\"brightness_R\", \"brightness_G\", \"brightness_B\", \"contrast_R\", \"contrast_G\", \"contrast_B\"])\n",
    "image_data_train[[\"brightness_R\", \"brightness_G\", \"brightness_B\"]] = test_imgs_means_train\n",
    "image_data_train[[ \"contrast_R\", \"contrast_G\", \"contrast_B\"]] = test_imgs_std_train\n",
    "image_data_train[\"labels\"] = labels_train"
   ]
  },
  {
   "cell_type": "code",
   "execution_count": 24,
   "metadata": {},
   "outputs": [],
   "source": [
    "test_imgs_means_test, test_imgs_std_test, labels_test = get_data(\"data/raw/German/Test.csv\")\n",
    "\n",
    "image_data_test = pd.DataFrame(columns=[\"brightness_R\", \"brightness_G\", \"brightness_B\", \"contrast_R\", \"contrast_G\", \"contrast_B\"])\n",
    "image_data_test[[\"brightness_R\", \"brightness_G\", \"brightness_B\"]] = test_imgs_means_test\n",
    "image_data_test[[ \"contrast_R\", \"contrast_G\", \"contrast_B\"]] = test_imgs_std_test\n",
    "image_data_test[\"labels\"] = labels_test"
   ]
  },
  {
   "cell_type": "code",
   "execution_count": 27,
   "metadata": {},
   "outputs": [
    {
     "name": "stderr",
     "output_type": "stream",
     "text": [
      "c:\\Users\\duweh\\.conda\\envs\\DL\\lib\\site-packages\\evidently\\metrics\\data_integrity\\dataset_missing_values_metric.py:147: FutureWarning: elementwise comparison failed; returning scalar instead, but in the future will perform elementwise comparison\n",
      "  elif missing_value in row.values:\n",
      "c:\\Users\\duweh\\.conda\\envs\\DL\\lib\\site-packages\\evidently\\metrics\\data_integrity\\dataset_missing_values_metric.py:147: FutureWarning:\n",
      "\n",
      "elementwise comparison failed; returning scalar instead, but in the future will perform elementwise comparison\n",
      "\n"
     ]
    }
   ],
   "source": [
    "report = Report(metrics=[DataDriftPreset(), DataQualityPreset(), TargetDriftPreset()])\n",
    "report.run(reference_data=image_data_train, current_data=image_data_test)\n",
    "report.save_html('reports/data_drift_report.html')\n",
    "\n",
    "data_test = TestSuite(tests=[TestNumberOfMissingValues()])\n",
    "data_test.run(reference_data=image_data_train, current_data=image_data_test)\n",
    "data_test.save_html(\"reports/data_test.html\")"
   ]
  },
  {
   "cell_type": "code",
   "execution_count": null,
   "metadata": {},
   "outputs": [],
   "source": []
  }
 ],
 "metadata": {
  "kernelspec": {
   "display_name": "DL",
   "language": "python",
   "name": "python3"
  },
  "language_info": {
   "codemirror_mode": {
    "name": "ipython",
    "version": 3
   },
   "file_extension": ".py",
   "mimetype": "text/x-python",
   "name": "python",
   "nbconvert_exporter": "python",
   "pygments_lexer": "ipython3",
   "version": "3.9.13"
  },
  "orig_nbformat": 4,
  "vscode": {
   "interpreter": {
    "hash": "ab483acd93618d62d3997e6553455a7a45a75d372f45a69f95736c1eaf091e66"
   }
  }
 },
 "nbformat": 4,
 "nbformat_minor": 2
}
